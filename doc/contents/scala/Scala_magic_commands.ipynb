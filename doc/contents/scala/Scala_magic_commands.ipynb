{
 "cells": [
  {
   "cell_type": "code",
   "execution_count": null,
   "metadata": {},
   "outputs": [],
   "source": [
    "%classpath add jar demoResources/beakerxTestLibrary.jar\n",
    "%classpath"
   ]
  },
  {
   "cell_type": "code",
   "execution_count": null,
   "metadata": {},
   "outputs": [],
   "source": [
    "%classpath add jar demoResources/beakerxTestLibrary.jar\n",
    "%classpath\n",
    "5+5"
   ]
  },
  {
   "cell_type": "code",
   "execution_count": null,
   "metadata": {
    "collapsed": true
   },
   "outputs": [],
   "source": [
    "%classpath\n",
    "%classpath add jar demoResources/beakerxTestLibrary.jar"
   ]
  },
  {
   "cell_type": "code",
   "execution_count": null,
   "metadata": {},
   "outputs": [],
   "source": [
    "%classpath"
   ]
  }
 ],
 "metadata": {
  "beakerx_kernel_parameters": {
   "classpath": [],
   "imports": [
    "com.twosigma.beakerx.chart.legend.*",
    "com.twosigma.beakerx.chart.categoryplot.plotitem.*",
    "com.twosigma.beakerx.scala.easyform.EasyForm",
    "com.twosigma.beakerx.chart.GradientColor",
    "com.twosigma.beakerx.table.*",
    "com.twosigma.beakerx.chart.xychart.*",
    "com.twosigma.beakerx.chart.categoryplot.*",
    "com.twosigma.beakerx.chart.Filter",
    "com.twosigma.beakerx.scala.table._",
    "com.twosigma.beakerx.chart.Color",
    "com.twosigma.beakerx.jvm.object.OutputCell",
    "com.twosigma.beakerx.fileloader.CsvPlotReader",
    "com.twosigma.beakerx.scala.chart.xychart.plotitem._",
    "com.twosigma.beakerx.chart.xychart.plotitem.*",
    "com.twosigma.beakerx.scala.chart.xychart._",
    "com.twosigma.beakerx.chart.heatmap.HeatMap",
    "com.twosigma.beakerx.chart.histogram.*",
    "com.twosigma.beakerx.easyform.EasyForm",
    "com.twosigma.beakerx.scala.fileloader._",
    "com.twosigma.beakerx.NamespaceClient",
    "com.twosigma.beakerx.chart.treemap.*",
    "net.sf.jtreemap.swing.*",
    "com.twosigma.beakerx.chart.treemap.util.*"
   ]
  },
  "kernelspec": {
   "display_name": "Scala",
   "language": "scala",
   "name": "scala"
  },
  "language_info": {
   "codemirror_mode": "text/x-scala",
   "file_extension": ".scala",
   "mimetype": "",
   "name": "Scala",
   "nbconverter_exporter": "",
   "version": "2.11.11"
  }
 },
 "nbformat": 4,
 "nbformat_minor": 2
}
